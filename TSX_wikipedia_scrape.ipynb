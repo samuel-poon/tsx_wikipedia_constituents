{
 "cells": [
  {
   "cell_type": "markdown",
   "metadata": {},
   "source": [
    "## Scraping Historical S&P/TSX Composite Constituents Using Wikipedia\n",
    "By Samuel Poon | www.elmrillinvestments.com | [GitHub](https://github.com/samuel-poon)"
   ]
  },
  {
   "cell_type": "code",
   "execution_count": null,
   "metadata": {},
   "outputs": [],
   "source": [
    "import requests\n",
    "from bs4 import BeautifulSoup\n",
    "import pandas as pd\n",
    "import numpy as np\n",
    "import re\n",
    "import dateutil.parser as dparser\n",
    "import string\n",
    "import pyprind\n",
    "import datetime\n",
    "import pandas_market_calendars as mcal"
   ]
  },
  {
   "cell_type": "code",
   "execution_count": null,
   "metadata": {},
   "outputs": [],
   "source": [
    "edit_history = 'https://en.wikipedia.org/w/index.php?title=S%26P/TSX_Composite_Index&offset=&limit=500&action=history'\n",
    "r = requests.get(edit_history)\n",
    "soup = BeautifulSoup(r.content,'lxml')\n",
    "\n",
    "historical_pages = soup.find_all('a', href=True)\n",
    "historical_pages = list(filter(lambda a: 'title=S%26P/TSX_Composite_Index&oldid=' in a['href'],\n",
    "                        historical_pages))\n",
    "historical_pages = list(map(lambda a: 'https://en.wikipedia.org' + a['href'],\n",
    "                            historical_pages))\n",
    "\n",
    "historical_pages = historical_pages[:200]\n",
    "historical_pages"
   ]
  },
  {
   "cell_type": "markdown",
   "metadata": {},
   "source": [
    "We define two functions to pick up the constituents list and the day at which the index changes. *get_constituents* returns a DataFrame with the constituents while *get_as_of_date* returns the index change date in a datetime object."
   ]
  },
  {
   "cell_type": "code",
   "execution_count": null,
   "metadata": {},
   "outputs": [],
   "source": [
    "def get_constituents(url):\n",
    "    try:\n",
    "        # keep_default_na to False since National Bank's ticker is NA\n",
    "        tables = pd.read_html(url, keep_default_na=False)\n",
    "\n",
    "        # We only want to return the table with the constituents.\n",
    "        for table in tables:\n",
    "            if table.columns[0] == 'Symbol':\n",
    "                \n",
    "                # Some tables have four columns if they include the industry and some only include\n",
    "                # the sector.\n",
    "                if len(table.columns) == 4:\n",
    "                    table.columns = ['Symbol','Company','Sector','Industry']\n",
    "                elif len(table.columns) == 3:\n",
    "                    table.columns = ['Symbol','Company','Sector']\n",
    "                \n",
    "                # On edits prior to April 12, 2012 edit, editors began adding 'TSX :' in the Symbol\n",
    "                # column.\n",
    "                table['Symbol'] = table['Symbol'].apply(lambda x: x.replace('TSX:\\xa0', ''))\n",
    "                \n",
    "                return table\n",
    "    except:\n",
    "        return None\n",
    "\n",
    "def get_as_of_date(url):\n",
    "    try:\n",
    "        wiki_r = requests.get(url)\n",
    "        wiki_soup = BeautifulSoup(wiki_r.content, 'lxml')\n",
    "\n",
    "        header = wiki_soup.find('span', {'class':'mw-headline'}, text=re.compile('^List of companies'))\n",
    "        p = header.find_next('p').text\n",
    "        \n",
    "        # We want to remove all punctuation from the paragraph - sometimes this throws off\n",
    "        # the parser.\n",
    "        table = str.maketrans(dict.fromkeys(string.punctuation))\n",
    "        p = p.translate(table)\n",
    "        \n",
    "        return dparser.parse(p, fuzzy=True)\n",
    "    except:\n",
    "        return None"
   ]
  },
  {
   "cell_type": "markdown",
   "metadata": {},
   "source": [
    "tsx_history stores the constituents every time the index changes in a DataFrame. When there are multiple edits for the same day, **I prioritize the most recent Wikipedia edit**."
   ]
  },
  {
   "cell_type": "code",
   "execution_count": null,
   "metadata": {},
   "outputs": [],
   "source": [
    "last_date = get_as_of_date('https://en.wikipedia.org/wiki/S%26P/TSX_Composite_Index')\n",
    "tsx_history = get_constituents('https://en.wikipedia.org/wiki/S%26P/TSX_Composite_Index')\n",
    "tsx_history['Last Index Change'] = last_date\n",
    "\n",
    "for url in pyprind.prog_bar(historical_pages):\n",
    "    if not get_as_of_date(url) is None and get_as_of_date(url) != last_date:\n",
    "        updated_constituents = get_constituents(url)\n",
    "        updated_constituents['Last Index Change'] = get_as_of_date(url)\n",
    "\n",
    "        tsx_history = tsx_history.append(updated_constituents,sort=False)\n",
    "        last_date = get_as_of_date(url)\n",
    "\n",
    "tsx_history.set_index('Last Index Change',inplace=True)\n",
    "tsx_history"
   ]
  },
  {
   "cell_type": "code",
   "execution_count": null,
   "metadata": {},
   "outputs": [],
   "source": [
    "index_change_dates = tsx_history.index.unique().sort_values(ascending=False).tz_localize(None)\n",
    "index_change_dates"
   ]
  },
  {
   "cell_type": "markdown",
   "metadata": {},
   "source": [
    "*get_historical_constituents* allows us to pick up the S&P/TSX Composite's constituents over a date range. Uses *tsx_history* to identify when the index changes. Returns output in a DataFrame. By default, *get_historical_constituents()* will return the constituent list from the latest trading day."
   ]
  },
  {
   "cell_type": "code",
   "execution_count": null,
   "metadata": {},
   "outputs": [],
   "source": [
    "def get_historical_constituents(start_date=datetime.date.today(), end_date=datetime.date.today()):\n",
    "\n",
    "    date_range = mcal.get_calendar('TSX').valid_days(start_date, end_date).tz_localize(None)\n",
    "    \n",
    "    # If the market is not open today, then we want to pull the constituent list from the last trading day.\n",
    "    # To find this, we look at valid_days over the last week and choose the last one. This is arbitrary\n",
    "    # but should cover every case including weekends and holidays.\n",
    "    if len(date_range) == 0:\n",
    "        date_range = mcal.get_calendar('TSX').valid_days(datetime.date.today()-datetime.timedelta(days=7), datetime.date.today())\n",
    "        date_range = date_range[len(date_range)-1:]\n",
    "        date_range = date_range.tz_localize(None)\n",
    "\n",
    "    output_df = pd.DataFrame()\n",
    "    \n",
    "    for trading_day in date_range:\n",
    "        # Since index_change_dates is already sorted, we can just take the first value where\n",
    "        # trading_day is equal to or less than the values in index_change_dates to find the \n",
    "        # most recent index change.\n",
    "        last_index_change = list(filter(lambda x: x <= trading_day, index_change_dates))[0]\n",
    "        \n",
    "        constituents = tsx_history.loc[last_index_change].copy()\n",
    "        constituents['Last Index Change'] = constituents.index\n",
    "        constituents['Date'] = trading_day\n",
    "        \n",
    "        output_df = output_df.append(constituents)\n",
    "    \n",
    "    output_df.set_index('Date', inplace=True)\n",
    "    \n",
    "    return output_df"
   ]
  },
  {
   "cell_type": "code",
   "execution_count": null,
   "metadata": {},
   "outputs": [],
   "source": [
    "df = get_historical_constituents(start_date='2020-01-01', end_date='2020-12-31')\n",
    "df"
   ]
  },
  {
   "cell_type": "markdown",
   "metadata": {},
   "source": [
    "We might want this data in a format where the rows are the dates and the columns are the symbols, with each value representing whether the stock was included in the index as of that date or not (useful for backtesting)."
   ]
  },
  {
   "cell_type": "code",
   "execution_count": null,
   "metadata": {},
   "outputs": [],
   "source": [
    "df = df[['Symbol']]\n",
    "df['Value'] = True\n",
    "df.pivot(columns='Symbol', values='Value').fillna(False)"
   ]
  },
  {
   "cell_type": "markdown",
   "metadata": {},
   "source": [
    "Saving the data in a csv for future use..."
   ]
  },
  {
   "cell_type": "code",
   "execution_count": null,
   "metadata": {},
   "outputs": [],
   "source": [
    "get_historical_constituents().to_csv('GSPTSE_constituents.csv')\n",
    "tsx_history.to_csv('GSPTSE_changes.csv')"
   ]
  }
 ],
 "metadata": {
  "kernelspec": {
   "display_name": "Python 3",
   "language": "python",
   "name": "python3"
  },
  "language_info": {
   "codemirror_mode": {
    "name": "ipython",
    "version": 3
   },
   "file_extension": ".py",
   "mimetype": "text/x-python",
   "name": "python",
   "nbconvert_exporter": "python",
   "pygments_lexer": "ipython3",
   "version": "3.7.0"
  }
 },
 "nbformat": 4,
 "nbformat_minor": 4
}
